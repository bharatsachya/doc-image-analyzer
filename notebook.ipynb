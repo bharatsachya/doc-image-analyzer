{
 "cells": [
  {
   "cell_type": "code",
   "execution_count": 3,
   "metadata": {},
   "outputs": [],
   "source": [
    "from PIL import Image\n",
    "import pytesseract"
   ]
  },
  {
   "cell_type": "code",
   "execution_count": 6,
   "metadata": {},
   "outputs": [
    {
     "name": "stdout",
     "output_type": "stream",
     "text": [
      "This is a lot of 12 point text to test the\n",
      "ocr code and see if it works on all types\n",
      "of file format.\n",
      "\n",
      "The quick brown dog jumped over the\n",
      "lazy fox. The quick brown dog jumped\n",
      "over the lazy fox. The quick brown dog\n",
      "jumped over the lazy fox. The quick\n",
      "brown dog jumped over the lazy fox.\n",
      "\n"
     ]
    }
   ],
   "source": [
    "print(pytesseract.image_to_string(Image.open('images/test.png')))\n"
   ]
  },
  {
   "cell_type": "code",
   "execution_count": null,
   "metadata": {},
   "outputs": [],
   "source": [
    "import cohere\n",
    "import numpy as np\n",
    "import pandas as pd\n",
    "import pdfplumber\n",
    "import streamlit as st\n",
    "from io import StringIO\n",
    "from typing import Sequence\n",
    "from dotenv import load_dotenv\n",
    "import os\n",
    "from numpy.linalg import norm"
   ]
  },
  {
   "cell_type": "code",
   "execution_count": null,
   "metadata": {},
   "outputs": [],
   "source": [
    "load_dotenv()"
   ]
  },
  {
   "cell_type": "markdown",
   "metadata": {},
   "source": [
    "co = cohere.Client(api)"
   ]
  },
  {
   "cell_type": "code",
   "execution_count": null,
   "metadata": {},
   "outputs": [],
   "source": [
    "api=os.getenv('API_KEY')\n"
   ]
  },
  {
   "cell_type": "code",
   "execution_count": null,
   "metadata": {},
   "outputs": [],
   "source": [
    "def extractTextFromPdf(pdf_path: str):\n",
    "    text = \"\"\n",
    "    with pdfplumber.open(pdf_path) as pdf:\n",
    "        for page in pdf.pages:\n",
    "            text += page.extract_text()\n",
    "    return text\n",
    "\n",
    "def processTextInput(text: str, run_id: str = None):  \n",
    "    text = StringIO(text).read()  \n",
    "    CHUNK_SIZE=150\n",
    "    chunks = [text[i:i + CHUNK_SIZE] for i in range(0, len(text), CHUNK_SIZE)]  \n",
    "\n",
    "    df = pd.DataFrame.from_dict({'text': chunks}) \n",
    "    return df\n",
    "\n",
    "def convertToList(df):\n",
    "    df['col']=df[['text']].apply(lambda row: ' '.join(row.dropna().astype(str)), axis=1)\n",
    "    seqOfStrings: Sequence[str]=df['col'].tolist()\n",
    "    return seqOfStrings\n",
    "\n",
    "def embed(Texts: Sequence[str]):\n",
    "    res=co.embed(texts=Texts, model=\"small\")\n",
    "    return res.embeddings"
   ]
  },
  {
   "cell_type": "code",
   "execution_count": null,
   "metadata": {},
   "outputs": [],
   "source": [
    "# options=st.selectbox(\"Input type\", [\"PDF\",\"TEXT\"])\n",
    "\n",
    "# if options==\"PDF\":\n",
    "#     pdf_file=st.file_uploader(\"Upload file\", type=[\"pdf\"])\n",
    "#     if pdf_file is not None:\n",
    "#         text=extractTextFromPdf(pdf_file)\n",
    "#     if text is not None:\n",
    "#         df=processTextInput(text)\n",
    "# elif options == \"TEXT\":  \n",
    "#     text = st.text_area(\"Paste the Document\")  \n",
    "#     if text is not None:  \n",
    "#         df = processTextInput(text)\n",
    "\n",
    "text=extractTextFromPdf('test/sample.pdf')"
   ]
  },
  {
   "cell_type": "code",
   "execution_count": null,
   "metadata": {},
   "outputs": [],
   "source": [
    "df=processTextInput(text)\n",
    "print(df)"
   ]
  },
  {
   "cell_type": "code",
   "execution_count": null,
   "metadata": {},
   "outputs": [],
   "source": [
    "listOfText=convertToList(df)\n",
    "embeddings=embed(listOfText)"
   ]
  },
  {
   "cell_type": "code",
   "execution_count": null,
   "metadata": {},
   "outputs": [],
   "source": [
    "if df is not None:\n",
    "    prompt=\"What is the main topic?\""
   ]
  },
  {
   "cell_type": "code",
   "execution_count": null,
   "metadata": {},
   "outputs": [],
   "source": [
    "def topNNeighbours(prompt_embedding: np.ndarray, storage_embeddings: np.ndarray, df, n: int = 5):  \n",
    "\tif isinstance(storage_embeddings, list):  \n",
    "\t\tstorage_embeddings = np.array(storage_embeddings)  \n",
    "\tif isinstance(prompt_embedding, list):  \n",
    "\t\tstorage_embeddings = np.array(prompt_embedding)  \n",
    "\tsimilarity_matrix = prompt_embedding @ storage_embeddings.T / np.outer(norm(prompt_embedding, axis=-1), norm(storage_embeddings, axis=-1))  \n",
    "\tnum_neighbors = min(similarity_matrix.shape[1], n)  \n",
    "\tindices = np.argsort(similarity_matrix, axis=-1)[:, -num_neighbors:]\n",
    "\tlistOfStr=df.values.tolist()\n",
    "\tneighbourValues:list=[]\n",
    "\tfor idx in indices[0]:\n",
    "\t\tneighbourValues.append(listOfStr[idx])\n",
    "\t# return len(listOfStr)\n",
    "\t# return indices\n",
    "\treturn neighbourValues"
   ]
  },
  {
   "cell_type": "code",
   "execution_count": null,
   "metadata": {},
   "outputs": [],
   "source": [
    "def generate(promptt):\n",
    "    res=co.generate(prompt=promptt)\n",
    "    return res"
   ]
  },
  {
   "cell_type": "code",
   "execution_count": null,
   "metadata": {},
   "outputs": [],
   "source": [
    "if df is not None and prompt != \"\":\n",
    "    base_prompt = \"Based on the passage above, answer the following question:\"\n",
    "    prompt_embedding = embed([prompt])\n",
    "    aug_prompts = topNNeighbours(np.array(prompt_embedding), embeddings, df)\n",
    "    # print(aug_prompts)\n",
    "    new_prompt = '\\n'.join(str(idx) for idx in aug_prompts) + '\\n\\n' + base_prompt + '\\n' + prompt + '\\n'\n",
    "    print(type(new_prompt))\n",
    "    # is_success = False\n",
    "    # while not is_success:\n",
    "    #     try:\n",
    "    #         response = generate(new_prompt)\n",
    "    #         print(response)\n",
    "    #         is_success = True\n",
    "    #     except Exception:\n",
    "    #         aug_prompts = aug_prompts[:-1]\n",
    "    #         new_prompt = '\\n'.join(aug_prompts) + '\\n' + base_prompt + '\\n' + prompt  + '\\n'\n",
    "\n",
    "    # st.write(response.generations[0].text)"
   ]
  },
  {
   "cell_type": "code",
   "execution_count": null,
   "metadata": {},
   "outputs": [],
   "source": [
    "res=generate(new_prompt)"
   ]
  },
  {
   "cell_type": "code",
   "execution_count": null,
   "metadata": {},
   "outputs": [],
   "source": [
    "print(res.generations[0].text)"
   ]
  }
 ],
 "metadata": {
  "kernelspec": {
   "display_name": "venv",
   "language": "python",
   "name": "python3"
  },
  "language_info": {
   "codemirror_mode": {
    "name": "ipython",
    "version": 3
   },
   "file_extension": ".py",
   "mimetype": "text/x-python",
   "name": "python",
   "nbconvert_exporter": "python",
   "pygments_lexer": "ipython3",
   "version": "3.8.20"
  }
 },
 "nbformat": 4,
 "nbformat_minor": 2
}
